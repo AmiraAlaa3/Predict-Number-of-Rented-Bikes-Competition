{
  "cells": [
    {
      "cell_type": "markdown",
      "metadata": {
        "id": "view-in-github",
        "colab_type": "text"
      },
      "source": [
        "<a href=\"https://colab.research.google.com/github/AmiraAlaa3/Predict-Number-of-Rented-Bikes-Competition/blob/main/Predict_Number_of_Rented_Bikes_each_hour.ipynb\" target=\"_parent\"><img src=\"https://colab.research.google.com/assets/colab-badge.svg\" alt=\"Open In Colab\"/></a>"
      ]
    },
    {
      "cell_type": "code",
      "execution_count": null,
      "metadata": {
        "id": "JhCRlvb0ix52"
      },
      "outputs": [],
      "source": [
        "import pandas as pd\n",
        "import numpy as np \n",
        "from sklearn.model_selection import cross_val_score\n",
        "import matplotlib.pyplot as plt "
      ]
    },
    {
      "cell_type": "code",
      "execution_count": null,
      "metadata": {
        "id": "8-SmhVuMkNZD"
      },
      "outputs": [],
      "source": [
        "data = pd.read_csv(\"/content/train.csv\", encoding= 'unicode_escape')"
      ]
    },
    {
      "cell_type": "code",
      "execution_count": null,
      "metadata": {
        "id": "tAiBWXtMtB_8"
      },
      "outputs": [],
      "source": [
        "test = pd.read_csv(\"/content/test.csv\", encoding= 'unicode_escape')"
      ]
    },
    {
      "cell_type": "code",
      "source": [
        "data.head(5)"
      ],
      "metadata": {
        "colab": {
          "base_uri": "https://localhost:8080/",
          "height": 392
        },
        "id": "30CsghAqDisi",
        "outputId": "0e2b8bcb-9787-4817-8ad1-540629c7303d"
      },
      "execution_count": null,
      "outputs": [
        {
          "output_type": "execute_result",
          "data": {
            "text/plain": [
              "         Date  Rented Bike Count  Hour  Temperature(Â°C)  Humidity(%)  \\\n",
              "0  01/12/2017                254     0              -5.2           37   \n",
              "1  01/12/2017                204     1              -5.5           38   \n",
              "2  01/12/2017                173     2              -6.0           39   \n",
              "3  01/12/2017                107     3              -6.2           40   \n",
              "4  01/12/2017                 78     4              -6.0           36   \n",
              "\n",
              "   Wind speed (m/s)  Visibility (10m)  Dew point temperature(Â°C)  \\\n",
              "0               2.2              2000                       -17.6   \n",
              "1               0.8              2000                       -17.6   \n",
              "2               1.0              2000                       -17.7   \n",
              "3               0.9              2000                       -17.6   \n",
              "4               2.3              2000                       -18.6   \n",
              "\n",
              "   Solar Radiation (MJ/m2)  Rainfall(mm)  Snowfall (cm) Seasons     Holiday  \\\n",
              "0                      0.0           0.0            0.0  Winter  No Holiday   \n",
              "1                      0.0           0.0            0.0  Winter  No Holiday   \n",
              "2                      0.0           0.0            0.0  Winter  No Holiday   \n",
              "3                      0.0           0.0            0.0  Winter  No Holiday   \n",
              "4                      0.0           0.0            0.0  Winter  No Holiday   \n",
              "\n",
              "  Functioning Day  \n",
              "0             Yes  \n",
              "1             Yes  \n",
              "2             Yes  \n",
              "3             Yes  \n",
              "4             Yes  "
            ],
            "text/html": [
              "\n",
              "  <div id=\"df-7a464acc-ac4a-41f1-adc6-061e8b772a59\">\n",
              "    <div class=\"colab-df-container\">\n",
              "      <div>\n",
              "<style scoped>\n",
              "    .dataframe tbody tr th:only-of-type {\n",
              "        vertical-align: middle;\n",
              "    }\n",
              "\n",
              "    .dataframe tbody tr th {\n",
              "        vertical-align: top;\n",
              "    }\n",
              "\n",
              "    .dataframe thead th {\n",
              "        text-align: right;\n",
              "    }\n",
              "</style>\n",
              "<table border=\"1\" class=\"dataframe\">\n",
              "  <thead>\n",
              "    <tr style=\"text-align: right;\">\n",
              "      <th></th>\n",
              "      <th>Date</th>\n",
              "      <th>Rented Bike Count</th>\n",
              "      <th>Hour</th>\n",
              "      <th>Temperature(Â°C)</th>\n",
              "      <th>Humidity(%)</th>\n",
              "      <th>Wind speed (m/s)</th>\n",
              "      <th>Visibility (10m)</th>\n",
              "      <th>Dew point temperature(Â°C)</th>\n",
              "      <th>Solar Radiation (MJ/m2)</th>\n",
              "      <th>Rainfall(mm)</th>\n",
              "      <th>Snowfall (cm)</th>\n",
              "      <th>Seasons</th>\n",
              "      <th>Holiday</th>\n",
              "      <th>Functioning Day</th>\n",
              "    </tr>\n",
              "  </thead>\n",
              "  <tbody>\n",
              "    <tr>\n",
              "      <th>0</th>\n",
              "      <td>01/12/2017</td>\n",
              "      <td>254</td>\n",
              "      <td>0</td>\n",
              "      <td>-5.2</td>\n",
              "      <td>37</td>\n",
              "      <td>2.2</td>\n",
              "      <td>2000</td>\n",
              "      <td>-17.6</td>\n",
              "      <td>0.0</td>\n",
              "      <td>0.0</td>\n",
              "      <td>0.0</td>\n",
              "      <td>Winter</td>\n",
              "      <td>No Holiday</td>\n",
              "      <td>Yes</td>\n",
              "    </tr>\n",
              "    <tr>\n",
              "      <th>1</th>\n",
              "      <td>01/12/2017</td>\n",
              "      <td>204</td>\n",
              "      <td>1</td>\n",
              "      <td>-5.5</td>\n",
              "      <td>38</td>\n",
              "      <td>0.8</td>\n",
              "      <td>2000</td>\n",
              "      <td>-17.6</td>\n",
              "      <td>0.0</td>\n",
              "      <td>0.0</td>\n",
              "      <td>0.0</td>\n",
              "      <td>Winter</td>\n",
              "      <td>No Holiday</td>\n",
              "      <td>Yes</td>\n",
              "    </tr>\n",
              "    <tr>\n",
              "      <th>2</th>\n",
              "      <td>01/12/2017</td>\n",
              "      <td>173</td>\n",
              "      <td>2</td>\n",
              "      <td>-6.0</td>\n",
              "      <td>39</td>\n",
              "      <td>1.0</td>\n",
              "      <td>2000</td>\n",
              "      <td>-17.7</td>\n",
              "      <td>0.0</td>\n",
              "      <td>0.0</td>\n",
              "      <td>0.0</td>\n",
              "      <td>Winter</td>\n",
              "      <td>No Holiday</td>\n",
              "      <td>Yes</td>\n",
              "    </tr>\n",
              "    <tr>\n",
              "      <th>3</th>\n",
              "      <td>01/12/2017</td>\n",
              "      <td>107</td>\n",
              "      <td>3</td>\n",
              "      <td>-6.2</td>\n",
              "      <td>40</td>\n",
              "      <td>0.9</td>\n",
              "      <td>2000</td>\n",
              "      <td>-17.6</td>\n",
              "      <td>0.0</td>\n",
              "      <td>0.0</td>\n",
              "      <td>0.0</td>\n",
              "      <td>Winter</td>\n",
              "      <td>No Holiday</td>\n",
              "      <td>Yes</td>\n",
              "    </tr>\n",
              "    <tr>\n",
              "      <th>4</th>\n",
              "      <td>01/12/2017</td>\n",
              "      <td>78</td>\n",
              "      <td>4</td>\n",
              "      <td>-6.0</td>\n",
              "      <td>36</td>\n",
              "      <td>2.3</td>\n",
              "      <td>2000</td>\n",
              "      <td>-18.6</td>\n",
              "      <td>0.0</td>\n",
              "      <td>0.0</td>\n",
              "      <td>0.0</td>\n",
              "      <td>Winter</td>\n",
              "      <td>No Holiday</td>\n",
              "      <td>Yes</td>\n",
              "    </tr>\n",
              "  </tbody>\n",
              "</table>\n",
              "</div>\n",
              "      <button class=\"colab-df-convert\" onclick=\"convertToInteractive('df-7a464acc-ac4a-41f1-adc6-061e8b772a59')\"\n",
              "              title=\"Convert this dataframe to an interactive table.\"\n",
              "              style=\"display:none;\">\n",
              "        \n",
              "  <svg xmlns=\"http://www.w3.org/2000/svg\" height=\"24px\"viewBox=\"0 0 24 24\"\n",
              "       width=\"24px\">\n",
              "    <path d=\"M0 0h24v24H0V0z\" fill=\"none\"/>\n",
              "    <path d=\"M18.56 5.44l.94 2.06.94-2.06 2.06-.94-2.06-.94-.94-2.06-.94 2.06-2.06.94zm-11 1L8.5 8.5l.94-2.06 2.06-.94-2.06-.94L8.5 2.5l-.94 2.06-2.06.94zm10 10l.94 2.06.94-2.06 2.06-.94-2.06-.94-.94-2.06-.94 2.06-2.06.94z\"/><path d=\"M17.41 7.96l-1.37-1.37c-.4-.4-.92-.59-1.43-.59-.52 0-1.04.2-1.43.59L10.3 9.45l-7.72 7.72c-.78.78-.78 2.05 0 2.83L4 21.41c.39.39.9.59 1.41.59.51 0 1.02-.2 1.41-.59l7.78-7.78 2.81-2.81c.8-.78.8-2.07 0-2.86zM5.41 20L4 18.59l7.72-7.72 1.47 1.35L5.41 20z\"/>\n",
              "  </svg>\n",
              "      </button>\n",
              "      \n",
              "  <style>\n",
              "    .colab-df-container {\n",
              "      display:flex;\n",
              "      flex-wrap:wrap;\n",
              "      gap: 12px;\n",
              "    }\n",
              "\n",
              "    .colab-df-convert {\n",
              "      background-color: #E8F0FE;\n",
              "      border: none;\n",
              "      border-radius: 50%;\n",
              "      cursor: pointer;\n",
              "      display: none;\n",
              "      fill: #1967D2;\n",
              "      height: 32px;\n",
              "      padding: 0 0 0 0;\n",
              "      width: 32px;\n",
              "    }\n",
              "\n",
              "    .colab-df-convert:hover {\n",
              "      background-color: #E2EBFA;\n",
              "      box-shadow: 0px 1px 2px rgba(60, 64, 67, 0.3), 0px 1px 3px 1px rgba(60, 64, 67, 0.15);\n",
              "      fill: #174EA6;\n",
              "    }\n",
              "\n",
              "    [theme=dark] .colab-df-convert {\n",
              "      background-color: #3B4455;\n",
              "      fill: #D2E3FC;\n",
              "    }\n",
              "\n",
              "    [theme=dark] .colab-df-convert:hover {\n",
              "      background-color: #434B5C;\n",
              "      box-shadow: 0px 1px 3px 1px rgba(0, 0, 0, 0.15);\n",
              "      filter: drop-shadow(0px 1px 2px rgba(0, 0, 0, 0.3));\n",
              "      fill: #FFFFFF;\n",
              "    }\n",
              "  </style>\n",
              "\n",
              "      <script>\n",
              "        const buttonEl =\n",
              "          document.querySelector('#df-7a464acc-ac4a-41f1-adc6-061e8b772a59 button.colab-df-convert');\n",
              "        buttonEl.style.display =\n",
              "          google.colab.kernel.accessAllowed ? 'block' : 'none';\n",
              "\n",
              "        async function convertToInteractive(key) {\n",
              "          const element = document.querySelector('#df-7a464acc-ac4a-41f1-adc6-061e8b772a59');\n",
              "          const dataTable =\n",
              "            await google.colab.kernel.invokeFunction('convertToInteractive',\n",
              "                                                     [key], {});\n",
              "          if (!dataTable) return;\n",
              "\n",
              "          const docLinkHtml = 'Like what you see? Visit the ' +\n",
              "            '<a target=\"_blank\" href=https://colab.research.google.com/notebooks/data_table.ipynb>data table notebook</a>'\n",
              "            + ' to learn more about interactive tables.';\n",
              "          element.innerHTML = '';\n",
              "          dataTable['output_type'] = 'display_data';\n",
              "          await google.colab.output.renderOutput(dataTable, element);\n",
              "          const docLink = document.createElement('div');\n",
              "          docLink.innerHTML = docLinkHtml;\n",
              "          element.appendChild(docLink);\n",
              "        }\n",
              "      </script>\n",
              "    </div>\n",
              "  </div>\n",
              "  "
            ]
          },
          "metadata": {},
          "execution_count": 4
        }
      ]
    },
    {
      "cell_type": "code",
      "source": [
        "data.info()"
      ],
      "metadata": {
        "colab": {
          "base_uri": "https://localhost:8080/"
        },
        "id": "fq5IvS8VDsjB",
        "outputId": "7e53f56e-c75c-4659-ba04-5ad3ec51ce38"
      },
      "execution_count": null,
      "outputs": [
        {
          "output_type": "stream",
          "name": "stdout",
          "text": [
            "<class 'pandas.core.frame.DataFrame'>\n",
            "RangeIndex: 6000 entries, 0 to 5999\n",
            "Data columns (total 14 columns):\n",
            " #   Column                      Non-Null Count  Dtype  \n",
            "---  ------                      --------------  -----  \n",
            " 0   Date                        6000 non-null   object \n",
            " 1   Rented Bike Count           6000 non-null   int64  \n",
            " 2   Hour                        6000 non-null   int64  \n",
            " 3   Temperature(Â°C)            6000 non-null   float64\n",
            " 4   Humidity(%)                 6000 non-null   int64  \n",
            " 5   Wind speed (m/s)            6000 non-null   float64\n",
            " 6   Visibility (10m)            6000 non-null   int64  \n",
            " 7   Dew point temperature(Â°C)  6000 non-null   float64\n",
            " 8   Solar Radiation (MJ/m2)     6000 non-null   float64\n",
            " 9   Rainfall(mm)                6000 non-null   float64\n",
            " 10  Snowfall (cm)               6000 non-null   float64\n",
            " 11  Seasons                     6000 non-null   object \n",
            " 12  Holiday                     6000 non-null   object \n",
            " 13  Functioning Day             6000 non-null   object \n",
            "dtypes: float64(6), int64(4), object(4)\n",
            "memory usage: 656.4+ KB\n"
          ]
        }
      ]
    },
    {
      "cell_type": "code",
      "source": [
        "test=test.set_index(\"ID\")"
      ],
      "metadata": {
        "id": "UIH9gowQEXal"
      },
      "execution_count": null,
      "outputs": []
    },
    {
      "cell_type": "code",
      "source": [
        "index=test.index"
      ],
      "metadata": {
        "id": "h8Da-_mmvz4o"
      },
      "execution_count": null,
      "outputs": []
    },
    {
      "cell_type": "code",
      "source": [
        "test.head(5)"
      ],
      "metadata": {
        "colab": {
          "base_uri": "https://localhost:8080/",
          "height": 423
        },
        "id": "Qx8tZ7O_D5v9",
        "outputId": "d8a10498-5c79-4f3e-d973-b4369767847a"
      },
      "execution_count": null,
      "outputs": [
        {
          "output_type": "execute_result",
          "data": {
            "text/plain": [
              "        Date  Hour  Temperature(Â°C)  Humidity(%)  Wind speed (m/s)  \\\n",
              "ID                                                                    \n",
              "0   8/8/2018     0              29.1           77               2.1   \n",
              "1   8/8/2018     1              28.5           80               1.5   \n",
              "2   8/8/2018     2              28.3           84               2.1   \n",
              "3   8/8/2018     3              28.3           84               0.5   \n",
              "4   8/8/2018     4              28.0           85               1.0   \n",
              "\n",
              "    Visibility (10m)  Dew point temperature(Â°C)  Solar Radiation (MJ/m2)  \\\n",
              "ID                                                                          \n",
              "0               1465                        24.6                      0.0   \n",
              "1               1306                        24.7                      0.0   \n",
              "2               1099                        25.3                      0.0   \n",
              "3               1006                        25.3                      0.0   \n",
              "4               1079                        25.2                      0.0   \n",
              "\n",
              "    Rainfall(mm)  Snowfall (cm) Seasons     Holiday Functioning Day  \n",
              "ID                                                                   \n",
              "0            0.0            0.0  Summer  No Holiday             Yes  \n",
              "1            0.0            0.0  Summer  No Holiday             Yes  \n",
              "2            0.0            0.0  Summer  No Holiday             Yes  \n",
              "3            0.0            0.0  Summer  No Holiday             Yes  \n",
              "4            0.0            0.0  Summer  No Holiday             Yes  "
            ],
            "text/html": [
              "\n",
              "  <div id=\"df-95acc06f-b13c-4f0c-a2ee-793567df5a26\">\n",
              "    <div class=\"colab-df-container\">\n",
              "      <div>\n",
              "<style scoped>\n",
              "    .dataframe tbody tr th:only-of-type {\n",
              "        vertical-align: middle;\n",
              "    }\n",
              "\n",
              "    .dataframe tbody tr th {\n",
              "        vertical-align: top;\n",
              "    }\n",
              "\n",
              "    .dataframe thead th {\n",
              "        text-align: right;\n",
              "    }\n",
              "</style>\n",
              "<table border=\"1\" class=\"dataframe\">\n",
              "  <thead>\n",
              "    <tr style=\"text-align: right;\">\n",
              "      <th></th>\n",
              "      <th>Date</th>\n",
              "      <th>Hour</th>\n",
              "      <th>Temperature(Â°C)</th>\n",
              "      <th>Humidity(%)</th>\n",
              "      <th>Wind speed (m/s)</th>\n",
              "      <th>Visibility (10m)</th>\n",
              "      <th>Dew point temperature(Â°C)</th>\n",
              "      <th>Solar Radiation (MJ/m2)</th>\n",
              "      <th>Rainfall(mm)</th>\n",
              "      <th>Snowfall (cm)</th>\n",
              "      <th>Seasons</th>\n",
              "      <th>Holiday</th>\n",
              "      <th>Functioning Day</th>\n",
              "    </tr>\n",
              "    <tr>\n",
              "      <th>ID</th>\n",
              "      <th></th>\n",
              "      <th></th>\n",
              "      <th></th>\n",
              "      <th></th>\n",
              "      <th></th>\n",
              "      <th></th>\n",
              "      <th></th>\n",
              "      <th></th>\n",
              "      <th></th>\n",
              "      <th></th>\n",
              "      <th></th>\n",
              "      <th></th>\n",
              "      <th></th>\n",
              "    </tr>\n",
              "  </thead>\n",
              "  <tbody>\n",
              "    <tr>\n",
              "      <th>0</th>\n",
              "      <td>8/8/2018</td>\n",
              "      <td>0</td>\n",
              "      <td>29.1</td>\n",
              "      <td>77</td>\n",
              "      <td>2.1</td>\n",
              "      <td>1465</td>\n",
              "      <td>24.6</td>\n",
              "      <td>0.0</td>\n",
              "      <td>0.0</td>\n",
              "      <td>0.0</td>\n",
              "      <td>Summer</td>\n",
              "      <td>No Holiday</td>\n",
              "      <td>Yes</td>\n",
              "    </tr>\n",
              "    <tr>\n",
              "      <th>1</th>\n",
              "      <td>8/8/2018</td>\n",
              "      <td>1</td>\n",
              "      <td>28.5</td>\n",
              "      <td>80</td>\n",
              "      <td>1.5</td>\n",
              "      <td>1306</td>\n",
              "      <td>24.7</td>\n",
              "      <td>0.0</td>\n",
              "      <td>0.0</td>\n",
              "      <td>0.0</td>\n",
              "      <td>Summer</td>\n",
              "      <td>No Holiday</td>\n",
              "      <td>Yes</td>\n",
              "    </tr>\n",
              "    <tr>\n",
              "      <th>2</th>\n",
              "      <td>8/8/2018</td>\n",
              "      <td>2</td>\n",
              "      <td>28.3</td>\n",
              "      <td>84</td>\n",
              "      <td>2.1</td>\n",
              "      <td>1099</td>\n",
              "      <td>25.3</td>\n",
              "      <td>0.0</td>\n",
              "      <td>0.0</td>\n",
              "      <td>0.0</td>\n",
              "      <td>Summer</td>\n",
              "      <td>No Holiday</td>\n",
              "      <td>Yes</td>\n",
              "    </tr>\n",
              "    <tr>\n",
              "      <th>3</th>\n",
              "      <td>8/8/2018</td>\n",
              "      <td>3</td>\n",
              "      <td>28.3</td>\n",
              "      <td>84</td>\n",
              "      <td>0.5</td>\n",
              "      <td>1006</td>\n",
              "      <td>25.3</td>\n",
              "      <td>0.0</td>\n",
              "      <td>0.0</td>\n",
              "      <td>0.0</td>\n",
              "      <td>Summer</td>\n",
              "      <td>No Holiday</td>\n",
              "      <td>Yes</td>\n",
              "    </tr>\n",
              "    <tr>\n",
              "      <th>4</th>\n",
              "      <td>8/8/2018</td>\n",
              "      <td>4</td>\n",
              "      <td>28.0</td>\n",
              "      <td>85</td>\n",
              "      <td>1.0</td>\n",
              "      <td>1079</td>\n",
              "      <td>25.2</td>\n",
              "      <td>0.0</td>\n",
              "      <td>0.0</td>\n",
              "      <td>0.0</td>\n",
              "      <td>Summer</td>\n",
              "      <td>No Holiday</td>\n",
              "      <td>Yes</td>\n",
              "    </tr>\n",
              "  </tbody>\n",
              "</table>\n",
              "</div>\n",
              "      <button class=\"colab-df-convert\" onclick=\"convertToInteractive('df-95acc06f-b13c-4f0c-a2ee-793567df5a26')\"\n",
              "              title=\"Convert this dataframe to an interactive table.\"\n",
              "              style=\"display:none;\">\n",
              "        \n",
              "  <svg xmlns=\"http://www.w3.org/2000/svg\" height=\"24px\"viewBox=\"0 0 24 24\"\n",
              "       width=\"24px\">\n",
              "    <path d=\"M0 0h24v24H0V0z\" fill=\"none\"/>\n",
              "    <path d=\"M18.56 5.44l.94 2.06.94-2.06 2.06-.94-2.06-.94-.94-2.06-.94 2.06-2.06.94zm-11 1L8.5 8.5l.94-2.06 2.06-.94-2.06-.94L8.5 2.5l-.94 2.06-2.06.94zm10 10l.94 2.06.94-2.06 2.06-.94-2.06-.94-.94-2.06-.94 2.06-2.06.94z\"/><path d=\"M17.41 7.96l-1.37-1.37c-.4-.4-.92-.59-1.43-.59-.52 0-1.04.2-1.43.59L10.3 9.45l-7.72 7.72c-.78.78-.78 2.05 0 2.83L4 21.41c.39.39.9.59 1.41.59.51 0 1.02-.2 1.41-.59l7.78-7.78 2.81-2.81c.8-.78.8-2.07 0-2.86zM5.41 20L4 18.59l7.72-7.72 1.47 1.35L5.41 20z\"/>\n",
              "  </svg>\n",
              "      </button>\n",
              "      \n",
              "  <style>\n",
              "    .colab-df-container {\n",
              "      display:flex;\n",
              "      flex-wrap:wrap;\n",
              "      gap: 12px;\n",
              "    }\n",
              "\n",
              "    .colab-df-convert {\n",
              "      background-color: #E8F0FE;\n",
              "      border: none;\n",
              "      border-radius: 50%;\n",
              "      cursor: pointer;\n",
              "      display: none;\n",
              "      fill: #1967D2;\n",
              "      height: 32px;\n",
              "      padding: 0 0 0 0;\n",
              "      width: 32px;\n",
              "    }\n",
              "\n",
              "    .colab-df-convert:hover {\n",
              "      background-color: #E2EBFA;\n",
              "      box-shadow: 0px 1px 2px rgba(60, 64, 67, 0.3), 0px 1px 3px 1px rgba(60, 64, 67, 0.15);\n",
              "      fill: #174EA6;\n",
              "    }\n",
              "\n",
              "    [theme=dark] .colab-df-convert {\n",
              "      background-color: #3B4455;\n",
              "      fill: #D2E3FC;\n",
              "    }\n",
              "\n",
              "    [theme=dark] .colab-df-convert:hover {\n",
              "      background-color: #434B5C;\n",
              "      box-shadow: 0px 1px 3px 1px rgba(0, 0, 0, 0.15);\n",
              "      filter: drop-shadow(0px 1px 2px rgba(0, 0, 0, 0.3));\n",
              "      fill: #FFFFFF;\n",
              "    }\n",
              "  </style>\n",
              "\n",
              "      <script>\n",
              "        const buttonEl =\n",
              "          document.querySelector('#df-95acc06f-b13c-4f0c-a2ee-793567df5a26 button.colab-df-convert');\n",
              "        buttonEl.style.display =\n",
              "          google.colab.kernel.accessAllowed ? 'block' : 'none';\n",
              "\n",
              "        async function convertToInteractive(key) {\n",
              "          const element = document.querySelector('#df-95acc06f-b13c-4f0c-a2ee-793567df5a26');\n",
              "          const dataTable =\n",
              "            await google.colab.kernel.invokeFunction('convertToInteractive',\n",
              "                                                     [key], {});\n",
              "          if (!dataTable) return;\n",
              "\n",
              "          const docLinkHtml = 'Like what you see? Visit the ' +\n",
              "            '<a target=\"_blank\" href=https://colab.research.google.com/notebooks/data_table.ipynb>data table notebook</a>'\n",
              "            + ' to learn more about interactive tables.';\n",
              "          element.innerHTML = '';\n",
              "          dataTable['output_type'] = 'display_data';\n",
              "          await google.colab.output.renderOutput(dataTable, element);\n",
              "          const docLink = document.createElement('div');\n",
              "          docLink.innerHTML = docLinkHtml;\n",
              "          element.appendChild(docLink);\n",
              "        }\n",
              "      </script>\n",
              "    </div>\n",
              "  </div>\n",
              "  "
            ]
          },
          "metadata": {},
          "execution_count": 8
        }
      ]
    },
    {
      "cell_type": "code",
      "source": [
        "test.info()"
      ],
      "metadata": {
        "colab": {
          "base_uri": "https://localhost:8080/"
        },
        "id": "h5WvQ98AEjFh",
        "outputId": "c4fdd03d-ea61-4f74-e1aa-5b3420efca5c"
      },
      "execution_count": null,
      "outputs": [
        {
          "output_type": "stream",
          "name": "stdout",
          "text": [
            "<class 'pandas.core.frame.DataFrame'>\n",
            "Int64Index: 2760 entries, 0 to 2759\n",
            "Data columns (total 13 columns):\n",
            " #   Column                      Non-Null Count  Dtype  \n",
            "---  ------                      --------------  -----  \n",
            " 0   Date                        2760 non-null   object \n",
            " 1   Hour                        2760 non-null   int64  \n",
            " 2   Temperature(Â°C)            2760 non-null   float64\n",
            " 3   Humidity(%)                 2760 non-null   int64  \n",
            " 4   Wind speed (m/s)            2760 non-null   float64\n",
            " 5   Visibility (10m)            2760 non-null   int64  \n",
            " 6   Dew point temperature(Â°C)  2760 non-null   float64\n",
            " 7   Solar Radiation (MJ/m2)     2760 non-null   float64\n",
            " 8   Rainfall(mm)                2760 non-null   float64\n",
            " 9   Snowfall (cm)               2760 non-null   float64\n",
            " 10  Seasons                     2760 non-null   object \n",
            " 11  Holiday                     2760 non-null   object \n",
            " 12  Functioning Day             2760 non-null   object \n",
            "dtypes: float64(6), int64(3), object(4)\n",
            "memory usage: 301.9+ KB\n"
          ]
        }
      ]
    },
    {
      "cell_type": "code",
      "execution_count": null,
      "metadata": {
        "id": "CEgRUzV4mj6R"
      },
      "outputs": [],
      "source": [
        "data['Date']=pd.to_datetime(data['Date'])\n",
        "df = pd.DataFrame(data)\n",
        "df['Day'] = pd.DatetimeIndex(df['Date']).day\n",
        "df['Month'] = pd.DatetimeIndex(df['Date']).month\n",
        "df['year'] = pd.DatetimeIndex(df['Date']).year\n",
        "df['Day Name'] = (pd.DatetimeIndex(df['Date']).day_name())"
      ]
    },
    {
      "cell_type": "code",
      "source": [
        "test['Date']=pd.to_datetime(test['Date'])\n",
        "df2 = pd.DataFrame(test)\n",
        "df2['Day'] = pd.DatetimeIndex(df2['Date']).day\n",
        "df2['Month'] = pd.DatetimeIndex(df2['Date']).month\n",
        "df2['year'] = pd.DatetimeIndex(df2['Date']).year\n",
        "df2['Day Name'] = (pd.DatetimeIndex(df2['Date']).day_name())"
      ],
      "metadata": {
        "id": "cyvmO6seF4Ie"
      },
      "execution_count": null,
      "outputs": []
    },
    {
      "cell_type": "code",
      "source": [
        "print(data['Day'].unique())\n",
        "print(test['Day'].unique())\n",
        "\n",
        "print(data['Month'].unique())\n",
        "print(test['Month'].unique())\n",
        "\n",
        "print(data['year'].unique())\n",
        "print(test['year'].unique())"
      ],
      "metadata": {
        "colab": {
          "base_uri": "https://localhost:8080/"
        },
        "id": "1qnCgdnKFrVf",
        "outputId": "6940c508-8af9-4d6a-b984-5150ea4d1418"
      },
      "execution_count": null,
      "outputs": [
        {
          "output_type": "stream",
          "name": "stdout",
          "text": [
            "[12 13 14 15 16 17 18 19 20 21 22 23 24 25 26 27 28 29 30 31  1  2  3  4\n",
            "  5  6  7  8]\n",
            "[ 8 13 14 15 16 17 18 19 20 21 22 23 24 25 26 27 28 29 30 31  9 10 11]\n",
            "[ 1  2  3  4  5  6  7  8  9 10 11 12]\n",
            "[ 8  9 10 11 12  1  2  3  4  5  6  7]\n",
            "[2017 2018]\n",
            "[2018]\n"
          ]
        }
      ]
    },
    {
      "cell_type": "code",
      "source": [
        "data.groupby('Day Name')['Rented Bike Count'].sum().plot(kind='barh');\n",
        "plt.title('Mean of Bikes Rented over Week Days');"
      ],
      "metadata": {
        "colab": {
          "base_uri": "https://localhost:8080/",
          "height": 281
        },
        "id": "DgcCBAyTHHjx",
        "outputId": "0fa65462-6868-47fa-ff10-00d98092f58c"
      },
      "execution_count": null,
      "outputs": [
        {
          "output_type": "display_data",
          "data": {
            "text/plain": [
              "<Figure size 432x288 with 1 Axes>"
            ],
            "image/png": "[encoded data removed]"
          },
          "metadata": {
            "needs_background": "light"
          }
        }
      ]
    },
    {
      "cell_type": "code",
      "source": [
        "# Check mean of bike rented per months\n",
        "data.groupby('Month')['Rented Bike Count'].mean().plot(kind='barh');\n",
        "plt.title('Mean of Bikes Rented over Months');"
      ],
      "metadata": {
        "colab": {
          "base_uri": "https://localhost:8080/",
          "height": 281
        },
        "id": "R-QqxJlhHc0e",
        "outputId": "c780b763-ac48-4af4-9cfd-af6001786d0d"
      },
      "execution_count": null,
      "outputs": [
        {
          "output_type": "display_data",
          "data": {
            "text/plain": [
              "<Figure size 432x288 with 1 Axes>"
            ],
            "image/png": "[encoded data removed]"
          },
          "metadata": {
            "needs_background": "light"
          }
        }
      ]
    },
    {
      "cell_type": "code",
      "source": [
        "data.groupby(['year', 'Month'])['Rented Bike Count'].mean().plot(kind='barh');\n",
        "plt.title('Mean of Bikes Rented over Months with respect to Year');"
      ],
      "metadata": {
        "colab": {
          "base_uri": "https://localhost:8080/",
          "height": 281
        },
        "id": "WhNDJqRcHnn7",
        "outputId": "13525576-2c40-4893-956a-6ec25c59ede7"
      },
      "execution_count": null,
      "outputs": [
        {
          "output_type": "display_data",
          "data": {
            "text/plain": [
              "<Figure size 432x288 with 1 Axes>"
            ],
            "image/png": "[encoded data removed]"
          },
          "metadata": {
            "needs_background": "light"
          }
        }
      ]
    },
    {
      "cell_type": "code",
      "source": [
        "# Check mean of bike rented per year\n",
        "data.groupby('year')['Rented Bike Count'].mean().plot(kind='barh');\n",
        "plt.title('Mean of Bikes Rented over Year');"
      ],
      "metadata": {
        "colab": {
          "base_uri": "https://localhost:8080/",
          "height": 281
        },
        "id": "rWI2kWxOH2vd",
        "outputId": "ddff3607-d147-4a86-f048-927dc88e9c84"
      },
      "execution_count": null,
      "outputs": [
        {
          "output_type": "display_data",
          "data": {
            "text/plain": [
              "<Figure size 432x288 with 1 Axes>"
            ],
            "image/png": "[encoded data removed]"
          },
          "metadata": {
            "needs_background": "light"
          }
        }
      ]
    },
    {
      "cell_type": "code",
      "source": [
        "# Check mean of bike rented per hour\n",
        "plt.figure(figsize=(6, 6))\n",
        "data.groupby('Hour')['Rented Bike Count'].mean().plot(kind='barh');\n",
        "plt.title('Mean of Bikes Rented over Hour');"
      ],
      "metadata": {
        "colab": {
          "base_uri": "https://localhost:8080/",
          "height": 390
        },
        "id": "LroAfSTKLBnK",
        "outputId": "b146430c-d1c8-4e7f-f2c5-ce73a5e51604"
      },
      "execution_count": null,
      "outputs": [
        {
          "output_type": "display_data",
          "data": {
            "text/plain": [
              "<Figure size 432x432 with 1 Axes>"
            ],
            "image/png": "[encoded data removed]"
          },
          "metadata": {
            "needs_background": "light"
          }
        }
      ]
    },
    {
      "cell_type": "code",
      "source": [
        "data.groupby('Seasons')['Rented Bike Count'].mean().plot(kind='barh');\n",
        "plt.title('Mean of Bikes Rented over Seasons');"
      ],
      "metadata": {
        "colab": {
          "base_uri": "https://localhost:8080/",
          "height": 281
        },
        "id": "b0zzMDK5LwPz",
        "outputId": "44335eb1-2211-4ca0-8532-eb20c7ba70a9"
      },
      "execution_count": null,
      "outputs": [
        {
          "output_type": "display_data",
          "data": {
            "text/plain": [
              "<Figure size 432x288 with 1 Axes>"
            ],
            "image/png": "[encoded data removed]"
          },
          "metadata": {
            "needs_background": "light"
          }
        }
      ]
    },
    {
      "cell_type": "code",
      "source": [
        "data.groupby('Holiday')['Rented Bike Count'].median().plot(kind='barh');\n",
        "plt.title('Mean of Bikes Rented over Holidays');"
      ],
      "metadata": {
        "colab": {
          "base_uri": "https://localhost:8080/",
          "height": 281
        },
        "id": "UqsZ5L7NMMIE",
        "outputId": "b08f43da-87be-4eeb-b0c0-69f90258ef37"
      },
      "execution_count": null,
      "outputs": [
        {
          "output_type": "display_data",
          "data": {
            "text/plain": [
              "<Figure size 432x288 with 1 Axes>"
            ],
            "image/png": "[encoded data removed]"
          },
          "metadata": {
            "needs_background": "light"
          }
        }
      ]
    },
    {
      "cell_type": "code",
      "source": [
        "sns.displot(data['Rented Bike Count']);"
      ],
      "metadata": {
        "id": "nq8kyBcWQpIe"
      },
      "execution_count": null,
      "outputs": []
    },
    {
      "cell_type": "code",
      "source": [
        "#skewness\n",
        "print(\"Skewness: \",data['Rented Bike Count'].skew())"
      ],
      "metadata": {
        "colab": {
          "base_uri": "https://localhost:8080/"
        },
        "id": "25Ugrax-Q1XJ",
        "outputId": "bd6d252f-dc04-4c91-a2fd-3f2b1ab8c13a"
      },
      "execution_count": null,
      "outputs": [
        {
          "output_type": "stream",
          "name": "stdout",
          "text": [
            "Skewness:  1.4035286899891888\n"
          ]
        }
      ]
    },
    {
      "cell_type": "code",
      "source": [
        "sns.histplot(test['Humidity(%)']);"
      ],
      "metadata": {
        "colab": {
          "base_uri": "https://localhost:8080/",
          "height": 279
        },
        "id": "nnYAaGVARBkv",
        "outputId": "f59d199e-1828-46dd-9234-008b5596165e"
      },
      "execution_count": null,
      "outputs": [
        {
          "output_type": "display_data",
          "data": {
            "text/plain": [
              "<Figure size 432x288 with 1 Axes>"
            ],
            "image/png": "[encoded data removed]"
          },
          "metadata": {
            "needs_background": "light"
          }
        }
      ]
    },
    {
      "cell_type": "code",
      "source": [
        "# Converting windspeed to kmh\n",
        "data['Windkmh']=data['Wind speed (m/s)']*(3.6)\n",
        "test['Windkmh']=test['Wind speed (m/s)']*(3.6)"
      ],
      "metadata": {
        "id": "m02BOzP4RAti"
      },
      "execution_count": null,
      "outputs": []
    },
    {
      "cell_type": "code",
      "source": [
        "# Temperature-Humidity Index\n",
        "data['THI'] = 0.8 * data['Temperature(Â°C)'] + data['Humidity(%)']/100 * (data['Temperature(Â°C)'] - 14.4) + 46.4\n",
        "test['THI'] = 0.8 * test['Temperature(Â°C)'] + test['Humidity(%)']/100 * (test['Temperature(Â°C)'] - 14.4) + 46.4\n"
      ],
      "metadata": {
        "id": "mtW5SltUTmTF"
      },
      "execution_count": null,
      "outputs": []
    },
    {
      "cell_type": "code",
      "source": [
        "data"
      ],
      "metadata": {
        "colab": {
          "base_uri": "https://localhost:8080/",
          "height": 696
        },
        "id": "YVWthB4j77-I",
        "outputId": "24f90c44-2ec0-4181-b81a-fe6113bdc2ca"
      },
      "execution_count": null,
      "outputs": [
        {
          "output_type": "execute_result",
          "data": {
            "text/plain": [
              "           Date  Rented Bike Count  Hour  Temperature(Â°C)  Humidity(%)  \\\n",
              "0    2017-01-12                254     0              -5.2           37   \n",
              "1    2017-01-12                204     1              -5.5           38   \n",
              "2    2017-01-12                173     2              -6.0           39   \n",
              "3    2017-01-12                107     3              -6.2           40   \n",
              "4    2017-01-12                 78     4              -6.0           36   \n",
              "...         ...                ...   ...               ...          ...   \n",
              "5995 2018-07-08               1898    19              32.9           56   \n",
              "5996 2018-07-08               1836    20              31.1           64   \n",
              "5997 2018-07-08               1826    21              30.3           69   \n",
              "5998 2018-07-08               1664    22              29.8           75   \n",
              "5999 2018-07-08               1136    23              29.5           78   \n",
              "\n",
              "      Wind speed (m/s)  Visibility (10m)  Dew point temperature(Â°C)  \\\n",
              "0                  2.2              2000                       -17.6   \n",
              "1                  0.8              2000                       -17.6   \n",
              "2                  1.0              2000                       -17.7   \n",
              "3                  0.9              2000                       -17.6   \n",
              "4                  2.3              2000                       -18.6   \n",
              "...                ...               ...                         ...   \n",
              "5995               2.6              1944                        22.9   \n",
              "5996               2.7              1770                        23.4   \n",
              "5997               2.2              1834                        23.9   \n",
              "5998               1.4              1609                        24.8   \n",
              "5999               1.4              1469                        25.2   \n",
              "\n",
              "      Solar Radiation (MJ/m2)  Rainfall(mm)  Snowfall (cm) Seasons  \\\n",
              "0                        0.00           0.0            0.0  Winter   \n",
              "1                        0.00           0.0            0.0  Winter   \n",
              "2                        0.00           0.0            0.0  Winter   \n",
              "3                        0.00           0.0            0.0  Winter   \n",
              "4                        0.00           0.0            0.0  Winter   \n",
              "...                       ...           ...            ...     ...   \n",
              "5995                     0.40           0.0            0.0  Summer   \n",
              "5996                     0.02           0.0            0.0  Summer   \n",
              "5997                     0.00           0.0            0.0  Summer   \n",
              "5998                     0.00           0.0            0.0  Summer   \n",
              "5999                     0.00           0.0            0.0  Summer   \n",
              "\n",
              "         Holiday Functioning Day  Day  Month  year  Day Name  Windkmh     THI  \n",
              "0     No Holiday             Yes   12      1  2017  Thursday     7.92  34.988  \n",
              "1     No Holiday             Yes   12      1  2017  Thursday     2.88  34.438  \n",
              "2     No Holiday             Yes   12      1  2017  Thursday     3.60  33.644  \n",
              "3     No Holiday             Yes   12      1  2017  Thursday     3.24  33.200  \n",
              "4     No Holiday             Yes   12      1  2017  Thursday     8.28  34.256  \n",
              "...          ...             ...  ...    ...   ...       ...      ...     ...  \n",
              "5995  No Holiday             Yes    8      7  2018    Sunday     9.36  83.080  \n",
              "5996  No Holiday             Yes    8      7  2018    Sunday     9.72  81.968  \n",
              "5997  No Holiday             Yes    8      7  2018    Sunday     7.92  81.611  \n",
              "5998  No Holiday             Yes    8      7  2018    Sunday     5.04  81.790  \n",
              "5999  No Holiday             Yes    8      7  2018    Sunday     5.04  81.778  \n",
              "\n",
              "[6000 rows x 20 columns]"
            ],
            "text/html": [
              "\n",
              "  <div id=\"df-69ef9fbf-d421-452a-b843-e2897d39f7cf\">\n",
              "    <div class=\"colab-df-container\">\n",
              "      <div>\n",
              "<style scoped>\n",
              "    .dataframe tbody tr th:only-of-type {\n",
              "        vertical-align: middle;\n",
              "    }\n",
              "\n",
              "    .dataframe tbody tr th {\n",
              "        vertical-align: top;\n",
              "    }\n",
              "\n",
              "    .dataframe thead th {\n",
              "        text-align: right;\n",
              "    }\n",
              "</style>\n",
              "<table border=\"1\" class=\"dataframe\">\n",
              "  <thead>\n",
              "    <tr style=\"text-align: right;\">\n",
              "      <th></th>\n",
              "      <th>Date</th>\n",
              "      <th>Rented Bike Count</th>\n",
              "      <th>Hour</th>\n",
              "      <th>Temperature(Â°C)</th>\n",
              "      <th>Humidity(%)</th>\n",
              "      <th>Wind speed (m/s)</th>\n",
              "      <th>Visibility (10m)</th>\n",
              "      <th>Dew point temperature(Â°C)</th>\n",
              "      <th>Solar Radiation (MJ/m2)</th>\n",
              "      <th>Rainfall(mm)</th>\n",
              "      <th>Snowfall (cm)</th>\n",
              "      <th>Seasons</th>\n",
              "      <th>Holiday</th>\n",
              "      <th>Functioning Day</th>\n",
              "      <th>Day</th>\n",
              "      <th>Month</th>\n",
              "      <th>year</th>\n",
              "      <th>Day Name</th>\n",
              "      <th>Windkmh</th>\n",
              "      <th>THI</th>\n",
              "    </tr>\n",
              "  </thead>\n",
              "  <tbody>\n",
              "    <tr>\n",
              "      <th>0</th>\n",
              "      <td>2017-01-12</td>\n",
              "      <td>254</td>\n",
              "      <td>0</td>\n",
              "      <td>-5.2</td>\n",
              "      <td>37</td>\n",
              "      <td>2.2</td>\n",
              "      <td>2000</td>\n",
              "      <td>-17.6</td>\n",
              "      <td>0.00</td>\n",
              "      <td>0.0</td>\n",
              "      <td>0.0</td>\n",
              "      <td>Winter</td>\n",
              "      <td>No Holiday</td>\n",
              "      <td>Yes</td>\n",
              "      <td>12</td>\n",
              "      <td>1</td>\n",
              "      <td>2017</td>\n",
              "      <td>Thursday</td>\n",
              "      <td>7.92</td>\n",
              "      <td>34.988</td>\n",
              "    </tr>\n",
              "    <tr>\n",
              "      <th>1</th>\n",
              "      <td>2017-01-12</td>\n",
              "      <td>204</td>\n",
              "      <td>1</td>\n",
              "      <td>-5.5</td>\n",
              "      <td>38</td>\n",
              "      <td>0.8</td>\n",
              "      <td>2000</td>\n",
              "      <td>-17.6</td>\n",
              "      <td>0.00</td>\n",
              "      <td>0.0</td>\n",
              "      <td>0.0</td>\n",
              "      <td>Winter</td>\n",
              "      <td>No Holiday</td>\n",
              "      <td>Yes</td>\n",
              "      <td>12</td>\n",
              "      <td>1</td>\n",
              "      <td>2017</td>\n",
              "      <td>Thursday</td>\n",
              "      <td>2.88</td>\n",
              "      <td>34.438</td>\n",
              "    </tr>\n",
              "    <tr>\n",
              "      <th>2</th>\n",
              "      <td>2017-01-12</td>\n",
              "      <td>173</td>\n",
              "      <td>2</td>\n",
              "      <td>-6.0</td>\n",
              "      <td>39</td>\n",
              "      <td>1.0</td>\n",
              "      <td>2000</td>\n",
              "      <td>-17.7</td>\n",
              "      <td>0.00</td>\n",
              "      <td>0.0</td>\n",
              "      <td>0.0</td>\n",
              "      <td>Winter</td>\n",
              "      <td>No Holiday</td>\n",
              "      <td>Yes</td>\n",
              "      <td>12</td>\n",
              "      <td>1</td>\n",
              "      <td>2017</td>\n",
              "      <td>Thursday</td>\n",
              "      <td>3.60</td>\n",
              "      <td>33.644</td>\n",
              "    </tr>\n",
              "    <tr>\n",
              "      <th>3</th>\n",
              "      <td>2017-01-12</td>\n",
              "      <td>107</td>\n",
              "      <td>3</td>\n",
              "      <td>-6.2</td>\n",
              "      <td>40</td>\n",
              "      <td>0.9</td>\n",
              "      <td>2000</td>\n",
              "      <td>-17.6</td>\n",
              "      <td>0.00</td>\n",
              "      <td>0.0</td>\n",
              "      <td>0.0</td>\n",
              "      <td>Winter</td>\n",
              "      <td>No Holiday</td>\n",
              "      <td>Yes</td>\n",
              "      <td>12</td>\n",
              "      <td>1</td>\n",
              "      <td>2017</td>\n",
              "      <td>Thursday</td>\n",
              "      <td>3.24</td>\n",
              "      <td>33.200</td>\n",
              "    </tr>\n",
              "    <tr>\n",
              "      <th>4</th>\n",
              "      <td>2017-01-12</td>\n",
              "      <td>78</td>\n",
              "      <td>4</td>\n",
              "      <td>-6.0</td>\n",
              "      <td>36</td>\n",
              "      <td>2.3</td>\n",
              "      <td>2000</td>\n",
              "      <td>-18.6</td>\n",
              "      <td>0.00</td>\n",
              "      <td>0.0</td>\n",
              "      <td>0.0</td>\n",
              "      <td>Winter</td>\n",
              "      <td>No Holiday</td>\n",
              "      <td>Yes</td>\n",
              "      <td>12</td>\n",
              "      <td>1</td>\n",
              "      <td>2017</td>\n",
              "      <td>Thursday</td>\n",
              "      <td>8.28</td>\n",
              "      <td>34.256</td>\n",
              "    </tr>\n",
              "    <tr>\n",
              "      <th>...</th>\n",
              "      <td>...</td>\n",
              "      <td>...</td>\n",
              "      <td>...</td>\n",
              "      <td>...</td>\n",
              "      <td>...</td>\n",
              "      <td>...</td>\n",
              "      <td>...</td>\n",
              "      <td>...</td>\n",
              "      <td>...</td>\n",
              "      <td>...</td>\n",
              "      <td>...</td>\n",
              "      <td>...</td>\n",
              "      <td>...</td>\n",
              "      <td>...</td>\n",
              "      <td>...</td>\n",
              "      <td>...</td>\n",
              "      <td>...</td>\n",
              "      <td>...</td>\n",
              "      <td>...</td>\n",
              "      <td>...</td>\n",
              "    </tr>\n",
              "    <tr>\n",
              "      <th>5995</th>\n",
              "      <td>2018-07-08</td>\n",
              "      <td>1898</td>\n",
              "      <td>19</td>\n",
              "      <td>32.9</td>\n",
              "      <td>56</td>\n",
              "      <td>2.6</td>\n",
              "      <td>1944</td>\n",
              "      <td>22.9</td>\n",
              "      <td>0.40</td>\n",
              "      <td>0.0</td>\n",
              "      <td>0.0</td>\n",
              "      <td>Summer</td>\n",
              "      <td>No Holiday</td>\n",
              "      <td>Yes</td>\n",
              "      <td>8</td>\n",
              "      <td>7</td>\n",
              "      <td>2018</td>\n",
              "      <td>Sunday</td>\n",
              "      <td>9.36</td>\n",
              "      <td>83.080</td>\n",
              "    </tr>\n",
              "    <tr>\n",
              "      <th>5996</th>\n",
              "      <td>2018-07-08</td>\n",
              "      <td>1836</td>\n",
              "      <td>20</td>\n",
              "      <td>31.1</td>\n",
              "      <td>64</td>\n",
              "      <td>2.7</td>\n",
              "      <td>1770</td>\n",
              "      <td>23.4</td>\n",
              "      <td>0.02</td>\n",
              "      <td>0.0</td>\n",
              "      <td>0.0</td>\n",
              "      <td>Summer</td>\n",
              "      <td>No Holiday</td>\n",
              "      <td>Yes</td>\n",
              "      <td>8</td>\n",
              "      <td>7</td>\n",
              "      <td>2018</td>\n",
              "      <td>Sunday</td>\n",
              "      <td>9.72</td>\n",
              "      <td>81.968</td>\n",
              "    </tr>\n",
              "    <tr>\n",
              "      <th>5997</th>\n",
              "      <td>2018-07-08</td>\n",
              "      <td>1826</td>\n",
              "      <td>21</td>\n",
              "      <td>30.3</td>\n",
              "      <td>69</td>\n",
              "      <td>2.2</td>\n",
              "      <td>1834</td>\n",
              "      <td>23.9</td>\n",
              "      <td>0.00</td>\n",
              "      <td>0.0</td>\n",
              "      <td>0.0</td>\n",
              "      <td>Summer</td>\n",
              "      <td>No Holiday</td>\n",
              "      <td>Yes</td>\n",
              "      <td>8</td>\n",
              "      <td>7</td>\n",
              "      <td>2018</td>\n",
              "      <td>Sunday</td>\n",
              "      <td>7.92</td>\n",
              "      <td>81.611</td>\n",
              "    </tr>\n",
              "    <tr>\n",
              "      <th>5998</th>\n",
              "      <td>2018-07-08</td>\n",
              "      <td>1664</td>\n",
              "      <td>22</td>\n",
              "      <td>29.8</td>\n",
              "      <td>75</td>\n",
              "      <td>1.4</td>\n",
              "      <td>1609</td>\n",
              "      <td>24.8</td>\n",
              "      <td>0.00</td>\n",
              "      <td>0.0</td>\n",
              "      <td>0.0</td>\n",
              "      <td>Summer</td>\n",
              "      <td>No Holiday</td>\n",
              "      <td>Yes</td>\n",
              "      <td>8</td>\n",
              "      <td>7</td>\n",
              "      <td>2018</td>\n",
              "      <td>Sunday</td>\n",
              "      <td>5.04</td>\n",
              "      <td>81.790</td>\n",
              "    </tr>\n",
              "    <tr>\n",
              "      <th>5999</th>\n",
              "      <td>2018-07-08</td>\n",
              "      <td>1136</td>\n",
              "      <td>23</td>\n",
              "      <td>29.5</td>\n",
              "      <td>78</td>\n",
              "      <td>1.4</td>\n",
              "      <td>1469</td>\n",
              "      <td>25.2</td>\n",
              "      <td>0.00</td>\n",
              "      <td>0.0</td>\n",
              "      <td>0.0</td>\n",
              "      <td>Summer</td>\n",
              "      <td>No Holiday</td>\n",
              "      <td>Yes</td>\n",
              "      <td>8</td>\n",
              "      <td>7</td>\n",
              "      <td>2018</td>\n",
              "      <td>Sunday</td>\n",
              "      <td>5.04</td>\n",
              "      <td>81.778</td>\n",
              "    </tr>\n",
              "  </tbody>\n",
              "</table>\n",
              "<p>6000 rows × 20 columns</p>\n",
              "</div>\n",
              "      <button class=\"colab-df-convert\" onclick=\"convertToInteractive('df-69ef9fbf-d421-452a-b843-e2897d39f7cf')\"\n",
              "              title=\"Convert this dataframe to an interactive table.\"\n",
              "              style=\"display:none;\">\n",
              "        \n",
              "  <svg xmlns=\"http://www.w3.org/2000/svg\" height=\"24px\"viewBox=\"0 0 24 24\"\n",
              "       width=\"24px\">\n",
              "    <path d=\"M0 0h24v24H0V0z\" fill=\"none\"/>\n",
              "    <path d=\"M18.56 5.44l.94 2.06.94-2.06 2.06-.94-2.06-.94-.94-2.06-.94 2.06-2.06.94zm-11 1L8.5 8.5l.94-2.06 2.06-.94-2.06-.94L8.5 2.5l-.94 2.06-2.06.94zm10 10l.94 2.06.94-2.06 2.06-.94-2.06-.94-.94-2.06-.94 2.06-2.06.94z\"/><path d=\"M17.41 7.96l-1.37-1.37c-.4-.4-.92-.59-1.43-.59-.52 0-1.04.2-1.43.59L10.3 9.45l-7.72 7.72c-.78.78-.78 2.05 0 2.83L4 21.41c.39.39.9.59 1.41.59.51 0 1.02-.2 1.41-.59l7.78-7.78 2.81-2.81c.8-.78.8-2.07 0-2.86zM5.41 20L4 18.59l7.72-7.72 1.47 1.35L5.41 20z\"/>\n",
              "  </svg>\n",
              "      </button>\n",
              "      \n",
              "  <style>\n",
              "    .colab-df-container {\n",
              "      display:flex;\n",
              "      flex-wrap:wrap;\n",
              "      gap: 12px;\n",
              "    }\n",
              "\n",
              "    .colab-df-convert {\n",
              "      background-color: #E8F0FE;\n",
              "      border: none;\n",
              "      border-radius: 50%;\n",
              "      cursor: pointer;\n",
              "      display: none;\n",
              "      fill: #1967D2;\n",
              "      height: 32px;\n",
              "      padding: 0 0 0 0;\n",
              "      width: 32px;\n",
              "    }\n",
              "\n",
              "    .colab-df-convert:hover {\n",
              "      background-color: #E2EBFA;\n",
              "      box-shadow: 0px 1px 2px rgba(60, 64, 67, 0.3), 0px 1px 3px 1px rgba(60, 64, 67, 0.15);\n",
              "      fill: #174EA6;\n",
              "    }\n",
              "\n",
              "    [theme=dark] .colab-df-convert {\n",
              "      background-color: #3B4455;\n",
              "      fill: #D2E3FC;\n",
              "    }\n",
              "\n",
              "    [theme=dark] .colab-df-convert:hover {\n",
              "      background-color: #434B5C;\n",
              "      box-shadow: 0px 1px 3px 1px rgba(0, 0, 0, 0.15);\n",
              "      filter: drop-shadow(0px 1px 2px rgba(0, 0, 0, 0.3));\n",
              "      fill: #FFFFFF;\n",
              "    }\n",
              "  </style>\n",
              "\n",
              "      <script>\n",
              "        const buttonEl =\n",
              "          document.querySelector('#df-69ef9fbf-d421-452a-b843-e2897d39f7cf button.colab-df-convert');\n",
              "        buttonEl.style.display =\n",
              "          google.colab.kernel.accessAllowed ? 'block' : 'none';\n",
              "\n",
              "        async function convertToInteractive(key) {\n",
              "          const element = document.querySelector('#df-69ef9fbf-d421-452a-b843-e2897d39f7cf');\n",
              "          const dataTable =\n",
              "            await google.colab.kernel.invokeFunction('convertToInteractive',\n",
              "                                                     [key], {});\n",
              "          if (!dataTable) return;\n",
              "\n",
              "          const docLinkHtml = 'Like what you see? Visit the ' +\n",
              "            '<a target=\"_blank\" href=https://colab.research.google.com/notebooks/data_table.ipynb>data table notebook</a>'\n",
              "            + ' to learn more about interactive tables.';\n",
              "          element.innerHTML = '';\n",
              "          dataTable['output_type'] = 'display_data';\n",
              "          await google.colab.output.renderOutput(dataTable, element);\n",
              "          const docLink = document.createElement('div');\n",
              "          docLink.innerHTML = docLinkHtml;\n",
              "          element.appendChild(docLink);\n",
              "        }\n",
              "      </script>\n",
              "    </div>\n",
              "  </div>\n",
              "  "
            ]
          },
          "metadata": {},
          "execution_count": 30
        }
      ]
    },
    {
      "cell_type": "code",
      "source": [
        "#https://link.springer.com/referenceworkentry/10.1007/0-387-30749-4_176\n",
        "\n",
        "data['THI_comfort'] = np.where(data['THI'] <= 70,1, 0)\n",
        "data['THI_half_discomfort'] = np.where((data['THI'] > 70) & (data['THI'] <=75),1, 0)\n",
        "data['THI_sweating'] = np.where((data['THI'] > 75) & (data['THI'] <=80),1, 0)\n",
        "data['THI_discomfort'] = np.where(data['THI'] > 80 , 1,  0)\n",
        "\n",
        "test['THI_comfort'] =  np.where(test['THI']<= 70 , 1, 0)\n",
        "test['THI_half_discomfort'] =  np.where((test['THI'] > 70) & (test['THI'] <=75) ,1, 0)\n",
        "test['THI_sweating'] =  np.where((test['THI']> 75) & (test['THI'] <=80),1,  0)\n",
        "test['THI_discomfort'] =  np.where(test['THI'] > 80 , 1,  0)"
      ],
      "metadata": {
        "id": "I_0BK1qlU412"
      },
      "execution_count": null,
      "outputs": []
    },
    {
      "cell_type": "code",
      "source": [
        "#Find the difference between the surface temperature and the dew point. This value is known as the \"spread\". Divide the spread by 4.4 (if temperatures are in °F) or 2.5 (if temperatures are in °C), then multiply by 1000.\n",
        "# Cloud-Base Altitude\n",
        "data['CBI'] = (data['Temperature(Â°C)'] - data['Dew point temperature(Â°C)']) * 400\n",
        "test['CBI'] = (test['Temperature(Â°C)'] - test['Dew point temperature(Â°C)']) * 400\n",
        "\n",
        "# OneHot Encoding CBI\n",
        "\n",
        "data['CBI_low_clouds'] =  np.where(data['CBI'] <= 6500 , 1 , 0)\n",
        "data['CBI_mid_clouds'] =  np.where((data['CBI']> 6500) & (data['CBI'] <= 25000) ,1, 0)\n",
        "data['CBI_high_clouds'] =  np.where(data['CBI'] > 25000 ,1, 0)\n",
        "\n",
        "test['CBI_low_clouds'] =  np.where(test['CBI']<= 6500,1, 0)\n",
        "test['CBI_mid_clouds'] =  np.where((test['CBI'] > 6500) & ( test['CBI']<= 25000) ,1, 0)\n",
        "test['CBI_high_clouds'] = np.where( test['CBI']> 25000 , 1, 0)"
      ],
      "metadata": {
        "id": "VS2TDtmDpu9V"
      },
      "execution_count": null,
      "outputs": []
    },
    {
      "cell_type": "code",
      "source": [
        "data.columns"
      ],
      "metadata": {
        "colab": {
          "base_uri": "https://localhost:8080/"
        },
        "id": "pWzBy6lIqXgY",
        "outputId": "dbe93c2b-8a21-4c13-8565-fe800ef176a7"
      },
      "execution_count": null,
      "outputs": [
        {
          "output_type": "execute_result",
          "data": {
            "text/plain": [
              "Index(['Date', 'Rented Bike Count', 'Hour', 'Temperature(Â°C)', 'Humidity(%)',\n",
              "       'Wind speed (m/s)', 'Visibility (10m)', 'Dew point temperature(Â°C)',\n",
              "       'Solar Radiation (MJ/m2)', 'Rainfall(mm)', 'Snowfall (cm)', 'Seasons',\n",
              "       'Holiday', 'Functioning Day', 'Day', 'Month', 'year', 'Day Name',\n",
              "       'Windkmh', 'THI', 'THI_comfort', 'THI_half_discomfort', 'THI_sweating',\n",
              "       'THI_discomfort', 'CBI', 'CBI_low_clouds', 'CBI_mid_clouds',\n",
              "       'CBI_high_clouds'],\n",
              "      dtype='object')"
            ]
          },
          "metadata": {},
          "execution_count": 35
        }
      ]
    },
    {
      "cell_type": "code",
      "source": [
        "data['Seasons']"
      ],
      "metadata": {
        "colab": {
          "base_uri": "https://localhost:8080/"
        },
        "id": "Di6YcUEIulFt",
        "outputId": "314abc13-16a2-4281-9597-33a863eff2b9"
      },
      "execution_count": null,
      "outputs": [
        {
          "output_type": "execute_result",
          "data": {
            "text/plain": [
              "0       Winter\n",
              "1       Winter\n",
              "2       Winter\n",
              "3       Winter\n",
              "4       Winter\n",
              "         ...  \n",
              "5995    Summer\n",
              "5996    Summer\n",
              "5997    Summer\n",
              "5998    Summer\n",
              "5999    Summer\n",
              "Name: Seasons, Length: 6000, dtype: object"
            ]
          },
          "metadata": {},
          "execution_count": 36
        }
      ]
    },
    {
      "cell_type": "code",
      "source": [
        "# Apply LabelEncoder\n",
        "from sklearn.preprocessing import LabelEncoder, StandardScaler\n",
        "Label_Encoder=LabelEncoder()\n",
        "data['Seasons'] =  data['Seasons'].map({'Winter': 1,'Spring':3, 'Summer':5})\n",
        "data['Holiday'] =  data['Holiday'].map({'No Holiday': 0,'Holiday':1})\n",
        "data['Functioning Day'] =  data['Functioning Day'].map({'Yes': 1,'No':0})\n",
        "#data['Day Name']=Label_Encoder.fit_transform(data['Day Name'])\n",
        "#data['Functioning Day']=Label_Encoder.fit_transform(data['Functioning Day'])\n",
        "\n",
        "\n",
        "Label_Encoder=LabelEncoder()\n",
        "#Test['Day Name']=Label_Encoder.fit_transform(Test['Day Name'])\n",
        "test['Seasons'] =  test['Seasons'].map({'Autumn':4, 'Summer':5})\n",
        "test['Holiday'] =  test['Holiday'].map({'No Holiday': 0,'Holiday':1})\n",
        "test['Functioning Day']=  test['Functioning Day'].map({'Yes': 1,'No':0})\n",
        "test['Day Name']=  test['Day Name'].map({'Sunday': 6, 'Monday': 0, 'Tuesday': 1, 'Wednesday': 2, 'Thursday': 3, 'Friday': 4, 'Saturday': 5})\n",
        "data['Day Name']=  data['Day Name'].map({'Sunday': 6, 'Monday': 0, 'Tuesday': 1, 'Wednesday': 2, 'Thursday': 3, 'Friday': 4, 'Saturday': 5})\n"
      ],
      "metadata": {
        "id": "tJwyke7XT7tC"
      },
      "execution_count": null,
      "outputs": []
    },
    {
      "cell_type": "code",
      "source": [
        "data['Solar Radiation (MJ/m2)']=data['Solar Radiation (MJ/m2)'] * 10\n",
        "test['Solar Radiation (MJ/m2)']=test['Solar Radiation (MJ/m2)'] * 10"
      ],
      "metadata": {
        "id": "eNo67B2qraD8"
      },
      "execution_count": null,
      "outputs": []
    },
    {
      "cell_type": "code",
      "execution_count": null,
      "metadata": {
        "colab": {
          "base_uri": "https://localhost:8080/"
        },
        "id": "JqpDbkCAGad6",
        "outputId": "fb51800a-f4c0-4821-8079-3af1e01d33ee"
      },
      "outputs": [
        {
          "output_type": "execute_result",
          "data": {
            "text/plain": [
              "0       1\n",
              "1       1\n",
              "2       1\n",
              "3       1\n",
              "4       1\n",
              "       ..\n",
              "5995    5\n",
              "5996    5\n",
              "5997    5\n",
              "5998    5\n",
              "5999    5\n",
              "Name: Seasons, Length: 6000, dtype: int64"
            ]
          },
          "metadata": {},
          "execution_count": 39
        }
      ],
      "source": [
        "data['Seasons']"
      ]
    },
    {
      "cell_type": "code",
      "execution_count": null,
      "metadata": {
        "colab": {
          "base_uri": "https://localhost:8080/",
          "height": 699
        },
        "id": "MQwj7P3nP7Kd",
        "outputId": "31a00a31-b176-4120-90e0-01db0679df2f"
      },
      "outputs": [
        {
          "output_type": "stream",
          "name": "stderr",
          "text": [
            "/usr/local/lib/python3.7/dist-packages/ipykernel_launcher.py:6: DeprecationWarning: `np.bool` is a deprecated alias for the builtin `bool`. To silence this warning, use `bool` by itself. Doing this will not modify any behavior and is safe. If you specifically wanted the numpy scalar type, use `np.bool_` here.\n",
            "Deprecated in NumPy 1.20; for more details and guidance: https://numpy.org/devdocs/release/1.20.0-notes.html#deprecations\n",
            "  \n"
          ]
        },
        {
          "output_type": "display_data",
          "data": {
            "text/plain": [
              "<Figure size 720x720 with 2 Axes>"
            ],
            "image/png": "[encoded data removed]"
          },
          "metadata": {
            "needs_background": "light"
          }
        }
      ],
      "source": [
        "import seaborn as sns\n",
        "# Compute the correlation matrix\n",
        "corr = data.corr()\n",
        "\n",
        "# Generate a mask for the upper triangle\n",
        "mask = np.zeros_like(corr, dtype=np.bool)\n",
        "mask[np.triu_indices_from(mask)] = True\n",
        "\n",
        "# Set up the matplotlib figure\n",
        "f, ax = plt.subplots(figsize=(10, 10))\n",
        "\n",
        "# Generate a custom diverging colormap\n",
        "cmap = sns.diverging_palette(220, 10, as_cmap=True)\n",
        "\n",
        "# Draw the heatmap with the mask and correct aspect ratio\n",
        "sns.heatmap(corr, mask=mask, cmap=cmap, vmax=.3, center=0,\n",
        "            square=True, linewidths=.5, cbar_kws={\"shrink\": .5});"
      ]
    },
    {
      "cell_type": "code",
      "execution_count": null,
      "metadata": {
        "colab": {
          "base_uri": "https://localhost:8080/"
        },
        "id": "TpK0dWO3bXeU",
        "outputId": "794c3501-f118-4479-aa9d-8c0e9079d33f"
      },
      "outputs": [
        {
          "output_type": "execute_result",
          "data": {
            "text/plain": [
              "(6000, 28)"
            ]
          },
          "metadata": {},
          "execution_count": 41
        }
      ],
      "source": [
        "data.shape"
      ]
    },
    {
      "cell_type": "code",
      "execution_count": null,
      "metadata": {
        "id": "MV92kpgsJ4E0"
      },
      "outputs": [],
      "source": [
        "data=data.drop([\"Date\"],axis=1)\n",
        "test=test.drop([\"Date\"],axis=1)"
      ]
    },
    {
      "cell_type": "code",
      "source": [
        "data['rush_hour'] = data['Hour'].apply(lambda x: 1 if x == 8 or x == 18 or x == 7 or x == 9 or x == 17 or x == 19 else 0)\n",
        "test['rush_hour'] = test['Hour'].apply(lambda x: 1 if x == 8 or x == 18 or x == 7 or x == 9 or x == 17 or x == 19 else 0)\n",
        "data.loc[data['Functioning Day'] == 0 , 'rush_hour'] = 0\n",
        "test.loc[test['Functioning Day'] == 0 , 'rush_hour'] = 0"
      ],
      "metadata": {
        "id": "gxmPGj4oAFXW"
      },
      "execution_count": null,
      "outputs": []
    },
    {
      "cell_type": "code",
      "source": [
        "#we only need winter and summer\n",
        "data['winter']=0\n",
        "test['winter']=0\n",
        "data.loc[(data['Seasons'] == 1),'winter'] =1\n",
        "test.loc[(test['Seasons'] == 1),'winter'] =1\n",
        "\n",
        "data['summer']=0\n",
        "test['summer']=0\n",
        "data.loc[(data['Seasons'] == 5),'summer'] =1\n",
        "test.loc[(test['Seasons'] == 5),'summer'] =1"
      ],
      "metadata": {
        "id": "XuF1ALFT_WYD"
      },
      "execution_count": null,
      "outputs": []
    },
    {
      "cell_type": "code",
      "source": [
        "data=data.drop([\"Seasons\"],axis=1)\n",
        "test=test.drop([\"Seasons\"],axis=1)"
      ],
      "metadata": {
        "id": "7-ZpIo5DEtBy"
      },
      "execution_count": null,
      "outputs": []
    },
    {
      "cell_type": "code",
      "execution_count": null,
      "metadata": {
        "id": "B2yhRXnjhxRy"
      },
      "outputs": [],
      "source": [
        "def find_skewed_boundaries(df, variable, distance):\n",
        "    IQR = df[variable].quantile(0.75) - df[variable].quantile(0.25)\n",
        "\n",
        "    lower_boundary = df[variable].quantile(0.25) - (IQR * distance)\n",
        "    upper_boundary = df[variable].quantile(0.75) + (IQR * distance)\n",
        "\n",
        "    return upper_boundary, lower_boundary\n",
        "\n",
        "RM_upper_limit, RM_lower_limit = find_skewed_boundaries(data, 'Wind speed (m/s)', 1.5)\n",
        "data['Wind speed (m/s)']= np.where(data['Wind speed (m/s)'] > RM_upper_limit, RM_upper_limit,\n",
        "                       np.where(data['Wind speed (m/s)'] < RM_lower_limit, RM_lower_limit,data['Wind speed (m/s)']))    "
      ]
    },
    {
      "cell_type": "code",
      "source": [
        "#Finding the maximum and minimum for solar radiation\n",
        "RM_upper_limit, RM_lower_limit = find_skewed_boundaries(data, 'Solar Radiation (MJ/m2)', 1.5)\n",
        "data['Solar Radiation (MJ/m2)']= np.where(data['Solar Radiation (MJ/m2)'] > RM_upper_limit, RM_upper_limit,\n",
        "                       np.where(data['Solar Radiation (MJ/m2)'] < RM_lower_limit, RM_lower_limit,data['Solar Radiation (MJ/m2)']))"
      ],
      "metadata": {
        "id": "nwe0DHI18g_J"
      },
      "execution_count": null,
      "outputs": []
    },
    {
      "cell_type": "code",
      "source": [
        "from sklearn.model_selection import train_test_split\n",
        "X=data.drop([\"Rented Bike Count\"],axis=1)\n",
        "y=data[\"Rented Bike Count\"]   \n",
        "X_train,X_test, y_train,y_test = train_test_split(X,y, test_size=0.20, random_state=3) \n"
      ],
      "metadata": {
        "id": "OC8rTL0oONVk"
      },
      "execution_count": null,
      "outputs": []
    },
    {
      "cell_type": "code",
      "execution_count": null,
      "metadata": {
        "id": "P6oPfVAfv5oc"
      },
      "outputs": [],
      "source": [
        "from sklearn.linear_model import LogisticRegression\n",
        "from sklearn.metrics import classification_report, confusion_matrix"
      ]
    },
    {
      "cell_type": "code",
      "execution_count": null,
      "metadata": {
        "id": "N3OAGL5_gajs",
        "colab": {
          "base_uri": "https://localhost:8080/"
        },
        "outputId": "4e791362-6be3-478e-d99d-69f1261ee7e5"
      },
      "outputs": [
        {
          "output_type": "stream",
          "name": "stdout",
          "text": [
            "390.60328078275893\n"
          ]
        }
      ],
      "source": [
        "from sklearn.linear_model import LogisticRegression,LinearRegression\n",
        "# create and configure model\n",
        "model = LinearRegression()\n",
        "model.fit(x_train, y_train)\n",
        "y_pred = model.predict(X_test)\n",
        "print(mean_squared_error(y_test, y_pred, squared=False))"
      ]
    },
    {
      "cell_type": "code",
      "source": [
        "from sklearn.naive_bayes import GaussianNB\n",
        "\n",
        "#Create a Gaussian Classifier\n",
        "model = GaussianNB()\n",
        "\n",
        "# Train the model using the training sets\n",
        "model.fit(X_train,y_train)\n",
        "y_pred = model.predict(X_test)\n",
        "print(np.sqrt(mean_squared_error(y_test, y_pred, squared=False)))"
      ],
      "metadata": {
        "id": "OmVmFmLGoUff",
        "colab": {
          "base_uri": "https://localhost:8080/"
        },
        "outputId": "2c92aa83-65ec-4de1-9537-be231bcf7f40"
      },
      "execution_count": null,
      "outputs": [
        {
          "output_type": "stream",
          "name": "stdout",
          "text": [
            "392.3213829247649\n"
          ]
        }
      ]
    },
    {
      "cell_type": "code",
      "source": [
        "#RUNN\n",
        "from sklearn.ensemble  import RandomForestRegressor\n",
        "clf = RandomForestRegressor(max_depth=15, random_state=42)\n",
        "clf.fit(X_train,  y_train)\n",
        "y_pred= clf.predict(test)"
      ],
      "metadata": {
        "id": "7LeP3LXzjD9P"
      },
      "execution_count": null,
      "outputs": []
    },
    {
      "cell_type": "code",
      "source": [
        "# Extra Trees Model #Ruun\n",
        "from sklearn.ensemble import ExtraTreesRegressor\n",
        "from sklearn.model_selection import GridSearchCV\n",
        "\n",
        "model = ExtraTreesRegressor(random_state=100)                          \n",
        "gsc = GridSearchCV(\n",
        "    estimator=model,\n",
        "    param_grid={\n",
        "        'n_estimators': [80],\n",
        "        \"max_depth\":[15],\n",
        "        'min_samples_split': [3],\n",
        "        'random_state':[100],\n",
        "    },\n",
        "    cv=12,verbose=0,\n",
        ")\n",
        "\n",
        "gsc.fit(X_train, y_train)\n",
        "y_pred = gsc.predict(X_test)\n",
        "print(np.sqrt(mean_squared_error(y_test, y_pred, squared=False)))"
      ],
      "metadata": {
        "id": "h35xSymD1N1O",
        "colab": {
          "base_uri": "https://localhost:8080/"
        },
        "outputId": "30902055-0467-4978-8685-7feda1843dbb"
      },
      "execution_count": null,
      "outputs": [
        {
          "output_type": "stream",
          "name": "stdout",
          "text": [
            "13.094013055474685\n"
          ]
        }
      ]
    },
    {
      "cell_type": "code",
      "source": [
        "from  xgboost  import  XGBRegressor\n",
        "from sklearn.metrics import mean_squared_error\n",
        "\n",
        "model = XGBRegressor(random_state = 0, n_jobs=2, n_estimators=100 , max_depth=15)\n",
        "model.fit(X_train, y_train)\n",
        "y_pred = model.predict(test)"
      ],
      "metadata": {
        "colab": {
          "base_uri": "https://localhost:8080/"
        },
        "id": "Lhp_k2foahj5",
        "outputId": "a917b6b5-f94f-4bd8-e7f1-f0614112e2b4"
      },
      "execution_count": null,
      "outputs": [
        {
          "output_type": "stream",
          "name": "stdout",
          "text": [
            "[21:56:10] WARNING: /workspace/src/objective/regression_obj.cu:152: reg:linear is now deprecated in favor of reg:squarederror.\n"
          ]
        }
      ]
    },
    {
      "cell_type": "code",
      "source": [
        "from sklearn import linear_model\n",
        "model = linear_model.Lasso(alpha=0.3)\n",
        "model.fit(X_train, y_train)\n",
        "y_pred = model.predict(X_test)\n",
        "print(mean_squared_error(y_test, y_pred, squared=False))"
      ],
      "metadata": {
        "colab": {
          "base_uri": "https://localhost:8080/"
        },
        "id": "I4i8q53sgJPZ",
        "outputId": "12e6f232-7c72-427f-8218-f74df19fc1ca"
      },
      "execution_count": null,
      "outputs": [
        {
          "output_type": "stream",
          "name": "stdout",
          "text": [
            "390.7674448612299\n"
          ]
        },
        {
          "output_type": "stream",
          "name": "stderr",
          "text": [
            "/usr/local/lib/python3.7/dist-packages/sklearn/linear_model/_coordinate_descent.py:648: ConvergenceWarning: Objective did not converge. You might want to increase the number of iterations, check the scale of the features or consider increasing regularisation. Duality gap: 2.049e+08, tolerance: 1.937e+05\n",
            "  coef_, l1_reg, l2_reg, X, y, max_iter, tol, rng, random, positive\n"
          ]
        }
      ]
    },
    {
      "cell_type": "code",
      "source": [
        "from sklearn.linear_model import Ridge\n",
        "n_samples, n_features = 10, 5\n",
        "rng = np.random.RandomState(0)\n",
        "y = rng.randn(n_samples)\n",
        "X = rng.randn(n_samples, n_features)\n",
        "model = Ridge(alpha=1.0)\n",
        "model.fit(X_train, y_train)\n",
        "y_pred = model.predict(test)"
      ],
      "metadata": {
        "id": "UeBsi-qOgaOu"
      },
      "execution_count": null,
      "outputs": []
    },
    {
      "cell_type": "code",
      "execution_count": null,
      "metadata": {
        "id": "lHh9T_p922x3"
      },
      "outputs": [],
      "source": [
        "result=pd.DataFrame({\"ID\":index,\"Rented Bike Count\":y_pred})"
      ]
    },
    {
      "cell_type": "code",
      "execution_count": null,
      "metadata": {
        "id": "wA_pnnJ5LR4B"
      },
      "outputs": [],
      "source": [
        "result=result.set_index(\"ID\")"
      ]
    },
    {
      "cell_type": "code",
      "execution_count": null,
      "metadata": {
        "id": "TQ36kWw7345h"
      },
      "outputs": [],
      "source": [
        "result.to_csv('Result9.csv')"
      ]
    },
    {
      "cell_type": "code",
      "source": [
        "c = pd.read_csv(\"/content/Result9.csv\", encoding= 'unicode_escape')\n",
        "v = pd.read_csv(\"/content/Resultacc.csv\", encoding= 'unicode_escape')\n",
        "c[\"Rented Bike Count\"]     #100"
      ],
      "metadata": {
        "id": "_6_GRzQqnayU",
        "colab": {
          "base_uri": "https://localhost:8080/"
        },
        "outputId": "f913ad37-1a1f-4b36-8adf-2fefd9c63f39"
      },
      "execution_count": null,
      "outputs": [
        {
          "output_type": "execute_result",
          "data": {
            "text/plain": [
              "0       864.051000\n",
              "1       587.445186\n",
              "2       486.454621\n",
              "3       347.363444\n",
              "4       232.741775\n",
              "           ...    \n",
              "2755    671.048083\n",
              "2756    534.865944\n",
              "2757    545.099222\n",
              "2758    492.517889\n",
              "2759    432.753288\n",
              "Name: Rented Bike Count, Length: 2760, dtype: float64"
            ]
          },
          "metadata": {},
          "execution_count": 108
        }
      ]
    }
  ],
  "metadata": {
    "colab": {
      "provenance": [],
      "include_colab_link": true
    },
    "kernelspec": {
      "display_name": "Python 3",
      "name": "python3"
    },
    "language_info": {
      "name": "python"
    }
  },
  "nbformat": 4,
  "nbformat_minor": 0
}